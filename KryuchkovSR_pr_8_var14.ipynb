{
 "cells": [
  {
   "cell_type": "markdown",
   "id": "a3703e4f",
   "metadata": {},
   "source": [
    "# Выполнение индивидуального задания <br> Практическая работа 8. Анализ метода загрузки данных. <br> Вариант 14"
   ]
  },
  {
   "cell_type": "markdown",
   "id": "9701b4a6",
   "metadata": {},
   "source": [
    "| Вариант | Задание 1: Настройка таблиц | Задание 2: Загрузка малых данных (`sales_small`) | Задание 3: Загрузка больших данных (`sales_big`) | Задание 4: SQL Анализ | Задание 5: Python/Colab Анализ и Визуализация |\n",
    "| :------ | :-------------------------- | :----------------------------------------------- | :------------------------------------------------ | :-------------------- | :---------------------------------------------- |\n",
    "| **14**  | Создать таблицы `sales_small`, `sales_big`. | Метод: `copy_expert (file)`                    | Метод: `copy_expert (file)`                       | SQL: Выбрать `id`, `cost` для 5 записей с самой низкой `cost` (>0) в `sales_big`. | Python: Построить гистограмму `cost` из `sales_small`. |"
   ]
  },
  {
   "cell_type": "markdown",
   "id": "07ddbd8d",
   "metadata": {},
   "source": [
    "---"
   ]
  },
  {
   "cell_type": "code",
   "execution_count": 1,
   "id": "b7300da3",
   "metadata": {},
   "outputs": [
    {
     "name": "stdout",
     "output_type": "stream",
     "text": [
      "Requirement already satisfied: psycopg2-binary in c:\\users\\englishman\\anaconda3\\lib\\site-packages (2.9.10)\n",
      "Requirement already satisfied: matplotlib in c:\\users\\englishman\\anaconda3\\lib\\site-packages (3.7.2)\n",
      "Requirement already satisfied: numpy in c:\\users\\englishman\\anaconda3\\lib\\site-packages (1.24.3)\n",
      "Requirement already satisfied: contourpy>=1.0.1 in c:\\users\\englishman\\anaconda3\\lib\\site-packages (from matplotlib) (1.0.5)\n",
      "Requirement already satisfied: cycler>=0.10 in c:\\users\\englishman\\anaconda3\\lib\\site-packages (from matplotlib) (0.11.0)\n",
      "Requirement already satisfied: fonttools>=4.22.0 in c:\\users\\englishman\\anaconda3\\lib\\site-packages (from matplotlib) (4.25.0)\n",
      "Requirement already satisfied: kiwisolver>=1.0.1 in c:\\users\\englishman\\anaconda3\\lib\\site-packages (from matplotlib) (1.4.4)\n",
      "Requirement already satisfied: packaging>=20.0 in c:\\users\\englishman\\anaconda3\\lib\\site-packages (from matplotlib) (23.1)\n",
      "Requirement already satisfied: pillow>=6.2.0 in c:\\users\\englishman\\anaconda3\\lib\\site-packages (from matplotlib) (9.4.0)\n",
      "Requirement already satisfied: pyparsing<3.1,>=2.3.1 in c:\\users\\englishman\\anaconda3\\lib\\site-packages (from matplotlib) (3.0.9)\n",
      "Requirement already satisfied: python-dateutil>=2.7 in c:\\users\\englishman\\anaconda3\\lib\\site-packages (from matplotlib) (2.8.2)\n",
      "Requirement already satisfied: six>=1.5 in c:\\users\\englishman\\anaconda3\\lib\\site-packages (from python-dateutil>=2.7->matplotlib) (1.16.0)\n"
     ]
    }
   ],
   "source": [
    "# устанавливаем библиотеки\n",
    "!pip install psycopg2-binary matplotlib numpy"
   ]
  },
  {
   "cell_type": "code",
   "execution_count": 2,
   "id": "62c66d6c",
   "metadata": {},
   "outputs": [],
   "source": [
    "# импортируем библиотеки\n",
    "import psycopg2\n",
    "from psycopg2 import Error\n",
    "from psycopg2 import extras # For execute_values\n",
    "import matplotlib.pyplot as plt\n",
    "import numpy as np\n",
    "import os # To check file existence\n"
   ]
  },
  {
   "cell_type": "code",
   "execution_count": 3,
   "id": "be1ef068",
   "metadata": {},
   "outputs": [
    {
     "name": "stderr",
     "output_type": "stream",
     "text": [
      "\"ls\" �� ���� ����७��� ��� ���譥�\n",
      "��������, �ᯮ��塞�� �ணࠬ��� ��� ������ 䠩���.\n"
     ]
    }
   ],
   "source": [
    "!ls"
   ]
  },
  {
   "cell_type": "code",
   "execution_count": 4,
   "id": "af83694e",
   "metadata": {},
   "outputs": [
    {
     "name": "stdout",
     "output_type": "stream",
     "text": [
      "Libraries installed and imported successfully.\n"
     ]
    }
   ],
   "source": [
    "# Установка и импорт необходимых библиотек.\n",
    "\n",
    "print(\"Libraries installed and imported successfully.\")\n",
    "\n",
    "# Данные БД, к которой подключаемся в PostgreSQL\n",
    "DB_USER = \"postgres\"\n",
    "DB_PASSWORD = \"111\"\n",
    "DB_HOST = \"localhost\"\n",
    "DB_PORT = \"5432\"\n",
    "DB_NAME = \"lect_08_bda_big_data\""
   ]
  },
  {
   "cell_type": "code",
   "execution_count": 14,
   "id": "49a1ba4a",
   "metadata": {},
   "outputs": [
    {
     "name": "stdout",
     "output_type": "stream",
     "text": [
      "Connecting to PostgreSQL database using psycopg2...\n",
      "Successfully connected to: lect_08_bda_big_data\n"
     ]
    }
   ],
   "source": [
    "# Проверка соединения с базой данных PostgreSQL.\n",
    "try:\n",
    "    # устанавливаем связь, используя psycopg2\n",
    "    print(\"Connecting to PostgreSQL database using psycopg2...\")\n",
    "    connection = psycopg2.connect(user=DB_USER,\n",
    "                                  password=DB_PASSWORD,\n",
    "                                  host=DB_HOST,\n",
    "                                  port=DB_PORT,\n",
    "                                  database=DB_NAME)\n",
    "    connection.autocommit = False # Important for COPY and batch inserts within transactions\n",
    "    \n",
    "    cursor = connection.cursor() # создание курсора для операций с БД\n",
    "    print(\"Successfully connected to: lect_08_bda_big_data\")\n",
    "\n",
    "\n",
    "except (Exception, Error) as error:\n",
    "    print(f\"Error while connecting to PostgreSQL: {error}\")\n",
    "    # Ensure resources are closed even if connection fails partially\n",
    "    if cursor:\n",
    "        cursor.close()\n",
    "    if connection:\n",
    "        connection.close()"
   ]
  },
  {
   "cell_type": "markdown",
   "id": "e6d0ea28",
   "metadata": {},
   "source": [
    "# Задание 1: Настройка таблиц <br> Создать таблицы `sales_small`, `sales_big`\n"
   ]
  },
  {
   "cell_type": "code",
   "execution_count": 15,
   "id": "4d6f62d4",
   "metadata": {},
   "outputs": [
    {
     "name": "stdout",
     "output_type": "stream",
     "text": [
      "Таблица sales_small создана\n",
      "Таблица sales_big создана\n"
     ]
    }
   ],
   "source": [
    "# Создание таблиц\n",
    "if connection and cursor:\n",
    "    try:\n",
    "        cursor.execute(\"\"\"\n",
    "                CREATE TABLE IF NOT EXISTS sales_small (\n",
    "                    id INTEGER PRIMARY KEY,\n",
    "                    quantity INTEGER,\n",
    "                    cost NUMERIC(10, 2),\n",
    "                    total_revenue NUMERIC(12, 2)\n",
    "                );\n",
    "            \"\"\")\n",
    "        \n",
    "        connection.commit()\n",
    "        print(\"Таблица sales_small создана\")\n",
    "\n",
    "        cursor.execute(\"\"\"\n",
    "                CREATE TABLE IF NOT EXISTS sales_big (\n",
    "                    id INTEGER PRIMARY KEY,\n",
    "                    quantity INTEGER,\n",
    "                    cost NUMERIC(10, 2),\n",
    "                    total_revenue NUMERIC(12, 2)\n",
    "                );\n",
    "            \"\"\")\n",
    "        \n",
    "        connection.commit()\n",
    "        print(\"Таблица sales_big создана\")\n",
    "\n",
    "\n",
    "    except (Exception, Error) as error:\n",
    "        print(f\"Error while connecting to PostgreSQL: {error}\")\n",
    "    # Ensure resources are closed even if connection fails partially\n",
    "        if cursor:\n",
    "            cursor.close()\n",
    "        if connection:\n",
    "            connection.close()\n"
   ]
  },
  {
   "cell_type": "markdown",
   "id": "e2212f53",
   "metadata": {},
   "source": [
    "# Задания 2: Загрузка малых данных `(sales_small)` <br> Метод: `copy_expert (file)`"
   ]
  },
  {
   "cell_type": "code",
   "execution_count": 16,
   "id": "ac063ff6",
   "metadata": {},
   "outputs": [
    {
     "name": "stdout",
     "output_type": "stream",
     "text": [
      "Файл upload_test_data.csv открыт. Начинаем загрузку в таблицу sales_small...\n",
      "Данные успешно загружены в таблицу sales_small.\n",
      "Все данные успешно загружены!\n"
     ]
    }
   ],
   "source": [
    "# Загрузка малых данных\n",
    "if connection and cursor:\n",
    "    try:\n",
    "        # Пути к файлам\n",
    "        small_csv_path = r'C:\\Users\\EnglishMan\\Desktop\\Уник\\2 курс\\Практикум по SQL\\Лаба 8\\upload_test_data.csv'\n",
    "      \n",
    "        # Загрузка малого файла в таблицу sales_small\n",
    "        with open(small_csv_path, 'r', encoding = 'utf-8') as f:\n",
    "            print(\"Файл upload_test_data.csv открыт. Начинаем загрузку в таблицу sales_small...\")\n",
    "            cursor.copy_expert(\n",
    "                sql = \"\"\"\n",
    "                COPY sales_small FROM STDIN WITH (FORMAT CSV, HEADER TRUE, DELIMITER ',')\n",
    "                \"\"\",\n",
    "                file = f\n",
    "            )\n",
    "            print(\"Данные успешно загружены в таблицу sales_small.\")\n",
    "\n",
    "        # Фиксируем изменения\n",
    "        connection.commit()\n",
    "        print(\"Все данные успешно загружены!\")\n",
    "        \n",
    "\n",
    "    except (Exception, Error) as error:\n",
    "        print(f\"Error while connecting to PostgreSQL: {error}\")\n",
    "    # Ensure resources are closed even if connection fails partially\n",
    "        if cursor:\n",
    "            cursor.close()\n",
    "        if connection:\n",
    "            connection.close()\n"
   ]
  },
  {
   "cell_type": "markdown",
   "id": "25e445c3",
   "metadata": {},
   "source": [
    "# Задание 3: Загрузка  больших данных `(sales_big)` <br> Метод: `copy_expert (file)`"
   ]
  },
  {
   "cell_type": "code",
   "execution_count": null,
   "id": "fbb795f1",
   "metadata": {},
   "outputs": [
    {
     "name": "stdout",
     "output_type": "stream",
     "text": [
      "Файл upload_test_data.csv открыт. Начинаем загрузку в таблицу sales_big...\n",
      "Данные успешно загружены в таблицу sales_big.\n",
      "Все данные успешно загружены!\n"
     ]
    }
   ],
   "source": [
    "# Загрузка большихх данных\n",
    "if connection and cursor:\n",
    "    try:\n",
    "        # Пути к файлам\n",
    "        big_csv_path = r'C:\\Users\\EnglishMan\\Desktop\\Уник\\2 курс\\Практикум по SQL\\Лаба 8\\upload_test_data_big.csv'\n",
    "\n",
    "        # Загрузка малого файла в таблицу sales_small\n",
    "        with open (big_csv_path, 'r', encoding = 'utf-8') as f:\n",
    "            print (\"Файл upload_test_data_big.csv открыт. Начинаем загрузку в таблицу sales_big...\")\n",
    "            cursor.copy_expert(\n",
    "                sql = \"\"\"\n",
    "                COPY sales_big FROM STDIN WITH (FORMAT CSV, HEADER TRUE, DELIMITER ',')\n",
    "                \"\"\",\n",
    "                file = f\n",
    "            )\n",
    "            print(\"Данные успешно загружены в таблицу sales_big.\")\n",
    "\n",
    "        # Фиксируем изменения\n",
    "        connection.commit()\n",
    "        print(\"Все данные успешно загружены!\")\n",
    "        \n",
    "\n",
    "    except (Exception, Error) as error:\n",
    "        print(f\"Error while connecting to PostgreSQL: {error}\")\n",
    "    # Ensure resources are closed even if connection fails partially\n",
    "        if cursor:\n",
    "            cursor.close()\n",
    "        if connection:\n",
    "            connection.close()\n"
   ]
  },
  {
   "cell_type": "markdown",
   "id": "0decb67f",
   "metadata": {},
   "source": [
    "# Задание 4: SQL Анализ <br> SQL: Выбрать `id`, `cost` для 5 записей с самой низкой `cost` (>0) в `sales_big`."
   ]
  },
  {
   "cell_type": "code",
   "execution_count": null,
   "id": "0d549a1b",
   "metadata": {},
   "outputs": [
    {
     "name": "stdout",
     "output_type": "stream",
     "text": [
      "5 записей с самой низкой ценой большей 0 в `sales_big`\n",
      "(100, Decimal('0.01'))\n",
      "(300, Decimal('0.01'))\n",
      "(1590, Decimal('0.01'))\n",
      "(4075, Decimal('0.01'))\n",
      "(4618, Decimal('0.01'))\n"
     ]
    }
   ],
   "source": [
    "# SQL анализ\n",
    "try:\n",
    "    connection = psycopg2.connect(user=DB_USER,\n",
    "                                  password=DB_PASSWORD,\n",
    "                                  host=DB_HOST,\n",
    "                                  port=DB_PORT,\n",
    "                                  database=DB_NAME)\n",
    "    connection.autocommit = False # Important for COPY and batch inserts within transactions\n",
    "    \n",
    "    cursor = connection.cursor() # создание курсора для операций с БД\n",
    "\n",
    "\n",
    "    cursor.execute(\"\"\"\n",
    "                select id, min(cost) from sales_big\n",
    "                where cost > 0\n",
    "                group by id\n",
    "                order by cost,id\n",
    "                limit 5;\n",
    "            \"\"\")\n",
    "       \n",
    "    connection.commit()\n",
    "    print(\"5 записей с самой низкой ценой большей 0 в `sales_big`\")\n",
    "    for row in cursor:\n",
    "        print(row) # вывод данных запроса построчно\n",
    "    \n",
    "\n",
    "except (Exception, Error) as error:\n",
    "        print(f\"Error while connecting to PostgreSQL: {error}\")\n",
    "    # Ensure resources are closed even if connection fails partially\n",
    "        if cursor:\n",
    "            cursor.close()\n",
    "        if connection:\n",
    "            connection.close()\n"
   ]
  },
  {
   "cell_type": "markdown",
   "id": "9d36ebcb",
   "metadata": {},
   "source": [
    "# Задание 5: Python/Colab Анализ и Визуализация <br> Python: Построить гистограмму `cost` из `sales_small`."
   ]
  },
  {
   "cell_type": "code",
   "execution_count": 68,
   "id": "b3f7a1de",
   "metadata": {},
   "outputs": [
    {
     "data": {
      "image/png": "[encoded data removed]",
      "text/plain": [
       "<Figure size 2000x400 with 1 Axes>"
      ]
     },
     "metadata": {},
     "output_type": "display_data"
    }
   ],
   "source": [
    "# Построение гистограммы и визуализация результатов\n",
    "if connection and cursor:\n",
    "    try:\n",
    "        connection = psycopg2.connect(user=DB_USER,\n",
    "                                  password=DB_PASSWORD,\n",
    "                                  host=DB_HOST,\n",
    "                                  port=DB_PORT,\n",
    "                                  database=DB_NAME)\n",
    "        connection.autocommit = False # Important for COPY and batch inserts within transactions\n",
    "    \n",
    "        cursor = connection.cursor() # создание курсора для операций с БД\n",
    "        cursor.execute(\"\"\"\n",
    "                select id, cost \n",
    "                from sales_small\n",
    "                group by id\n",
    "                order by id, cost;\n",
    "            \"\"\")\n",
    "        connection.commit()\n",
    "        data = cursor.fetchall()\n",
    "\n",
    "        # Разделяем id и cost\n",
    "        ids = [row[0] for row in data]\n",
    "        costs = [row[1] for row in data]\n",
    "\n",
    "        # Построение гистограммы\n",
    "        plt.figure(figsize=(20, 4))\n",
    "        plt.hist(costs, bins = 100, color = 'red', edgecolor = 'black', alpha = 0.3)\n",
    "        plt.title('Cost по определённому id')\n",
    "        plt.xlabel('id')  # Данные по оси X\n",
    "        plt.ylabel('cost') # Данные по оси Y\n",
    "        plt.show()\n",
    "\n",
    "    \n",
    "    except (Exception, Error) as error:\n",
    "        print(f\"Error while connecting to PostgreSQL: {error}\")\n",
    "    # Ensure resources are closed even if connection fails partially\n",
    "        if cursor:\n",
    "            cursor.close()\n",
    "        if connection:\n",
    "            connection.close()"
   ]
  }
 ],
 "metadata": {
  "kernelspec": {
   "display_name": "base",
   "language": "python",
   "name": "python3"
  },
  "language_info": {
   "codemirror_mode": {
    "name": "ipython",
    "version": 3
   },
   "file_extension": ".py",
   "mimetype": "text/x-python",
   "name": "python",
   "nbconvert_exporter": "python",
   "pygments_lexer": "ipython3",
   "version": "3.11.5"
  }
 },
 "nbformat": 4,
 "nbformat_minor": 5
}
